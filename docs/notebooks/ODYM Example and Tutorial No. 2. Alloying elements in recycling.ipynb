{
 "cells": [
  {
   "cell_type": "markdown",
   "metadata": {},
   "source": [
    "# ODYM Example no. 2.  Alloying elements in recycling.\n",
    "\n",
    "A recycling system with two end-of-life (EoL) products, two scrap types, one secondary material, and several types of losses are studied. Three chemical elements are considered: iron, copper, and manganese. A time horizon of 30 years [1980-2010], five processes, and time-dependent parameters are analysed. The processes have element-specific yield factors, meaning that the loss rates depend on the chemical element considered. These values are given below.\n",
    "\n",
    "The research questions are:\n",
    "+ \"How much copper accumulates in the secondary steel assuming that all available scrap is remelted?\"\n",
    "+ \"How much manganese is lost in the remelting process assuming that all available scrap is remelted?\n",
    "+ \"What is more effective in reducing the copper concentraction of secondary steel: A reduction of the shredding yield factor for copper from EoL machines into steel scrap of 25% or an increase in the EoL buildings flow by 25%? (All other variables and parameters remaining equal)\"\n",
    "\n",
    " \n",
    "\n",
    "\n",
    "<img src=\"Images/SteelAlloyElementsWasteMgt.png\" width=\"554\" height=\"490\" alt=\"Simple MFA system\">\n",
    "\n",
    "\n",
    "The model equations are as follows:\n",
    "+ $F_{1\\_3}(t,e) = \\Gamma_1(e) \\cdot F_{0\\_1}(t,e) $ (shredder yield factor)\n",
    "+ $F_{1\\_0}(t,e) = (1 - \\Gamma_1(e)) \\cdot F_{0\\_1}(t,e) $ (mass balance)\n",
    "\n",
    "+ $F_{2\\_3}(t,e) = \\Gamma_2(e) \\cdot F_{0\\_2}(t,e) $ (demolition yield factor)\n",
    "+ $F_{2\\_4}(t,e) = (1 - \\Gamma_2(e)) \\cdot F_{0\\_2}(t,e) $ (mass balance)\n",
    "\n",
    "+ $F_{3\\_0}(t,e) = \\Gamma_3(e) \\cdot (F_{1\\_3}(t,e)+F_{2\\_3}(t,e)) $ (remelting yield factor)\n",
    "+ $F_{3\\_5}(t,e) = (1 - \\Gamma_3(e)) \\cdot (F_{1\\_3}(t,e)+F_{2\\_3}(t,e)) $ (mass balance)\n",
    "\n",
    "Here the index letters t denote the model time and e the chemical element. \n",
    "We will now programm this solution into ODYM. The two inflows $F_{0\\_1}(t,e)$ and $F_{0\\_2}(t,e)$ as well as the three yield factors are given below.\n",
    "\n",
    "\n",
    "### 1) Load ODYM\n"
   ]
  },
  {
   "cell_type": "code",
   "execution_count": 1,
   "metadata": {},
   "outputs": [],
   "source": [
    "# Load a local copy of the current ODYM branch:\n",
    "import sys, os\n",
    "import numpy as np\n",
    "import pandas as pd\n",
    "import matplotlib.pyplot as plt\n",
    "import pickle\n",
    "\n",
    "# For Ipython Notebook only\n",
    "%matplotlib inline\n",
    "\n",
    "sys.path.insert(0, os.path.join('..', 'odym', 'modules')) # add ODYM module directory to system path, relative\n",
    "sys.path.insert(0, os.path.join(os.getcwd(),'..', 'odym', 'modules')) # add ODYM module directory to system path, absolute\n",
    "import ODYM_Classes as msc # import the ODYM class file\n",
    "import ODYM_Functions as msf # import the ODYM function file\n",
    "import dynamic_stock_model as dsm # import the dynamic stock model library"
   ]
  },
  {
   "cell_type": "markdown",
   "metadata": {},
   "source": [
    "### 2) Define MFA system \n",
    "With the model imported, we can now set up the system definition. The 'classical' elements of the system definition in MFA include: The processes, flows, and stocks, the material, the region, and the time frame studied. Next to these elements, ODYM features/requires the following elements to be specified:\n",
    "+ The list of chemical elements considered (Fe, Cu, and Mn)\n",
    "+ The classification(s) of the system variables (stocks and flows): Which materials, products, regions, or waste groups are considered? (This feature is not used here)\n",
    "+ An index letter to quickly/directly access a model aspect.\n",
    "+ A dictionary of model parameters\n",
    "\n",
    "For all these items ODYM has a specific structure, which is used below.\n",
    "\n",
    "First, we define a classification of all objects flowing and accumulating in stocks:"
   ]
  },
  {
   "cell_type": "code",
   "execution_count": 2,
   "metadata": {},
   "outputs": [],
   "source": [
    "ModelClassification  = {} # Create dictionary of model classifications\n",
    "\n",
    "ModelClassification['Time']    = msc.Classification(Name = 'Time', Dimension = 'Time', ID = 1,\n",
    "                                                    Items = list(np.arange(1980,2011)))\n",
    "# Classification for time labelled 'Time' must always be present, with Items containing a list of odered integers representing years, months, or other discrete time intervals\n",
    "\n",
    "ModelClassification['Element'] = msc.Classification(Name = 'Elements', Dimension = 'Element', ID = 2,\n",
    "                                                    Items = ['Fe','Cu','Mn'])\n",
    "# Classification for elements labelled 'Element' must always be present, with Items containing a list of the symbols of the elements covered.\n",
    "\n",
    "# Get model time start, end, and duration:\n",
    "Model_Time_Start = int(min(ModelClassification['Time'].Items))\n",
    "Model_Time_End   = int(max(ModelClassification['Time'].Items))\n",
    "Model_Duration   = Model_Time_End - Model_Time_Start"
   ]
  },
  {
   "cell_type": "markdown",
   "metadata": {},
   "source": [
    "That dictionary of classifications enteres the index table defined for the system. The indext table lists all aspects needed and assigns a classification and index letter to each aspect."
   ]
  },
  {
   "cell_type": "code",
   "execution_count": 3,
   "metadata": {},
   "outputs": [
    {
     "data": {
      "text/html": [
       "<div>\n",
       "<style scoped>\n",
       "    .dataframe tbody tr th:only-of-type {\n",
       "        vertical-align: middle;\n",
       "    }\n",
       "\n",
       "    .dataframe tbody tr th {\n",
       "        vertical-align: top;\n",
       "    }\n",
       "\n",
       "    .dataframe thead th {\n",
       "        text-align: right;\n",
       "    }\n",
       "</style>\n",
       "<table border=\"1\" class=\"dataframe\">\n",
       "  <thead>\n",
       "    <tr style=\"text-align: right;\">\n",
       "      <th></th>\n",
       "      <th>Description</th>\n",
       "      <th>Dimension</th>\n",
       "      <th>Classification</th>\n",
       "      <th>IndexLetter</th>\n",
       "    </tr>\n",
       "    <tr>\n",
       "      <th>Aspect</th>\n",
       "      <th></th>\n",
       "      <th></th>\n",
       "      <th></th>\n",
       "      <th></th>\n",
       "    </tr>\n",
       "  </thead>\n",
       "  <tbody>\n",
       "    <tr>\n",
       "      <th>Time</th>\n",
       "      <td>Model aspect \"time\"</td>\n",
       "      <td>Time</td>\n",
       "      <td>&lt;ODYM_Classes.Classification object at 0x00000...</td>\n",
       "      <td>t</td>\n",
       "    </tr>\n",
       "    <tr>\n",
       "      <th>Element</th>\n",
       "      <td>Model aspect \"Element\"</td>\n",
       "      <td>Element</td>\n",
       "      <td>&lt;ODYM_Classes.Classification object at 0x00000...</td>\n",
       "      <td>e</td>\n",
       "    </tr>\n",
       "  </tbody>\n",
       "</table>\n",
       "</div>"
      ],
      "text/plain": [
       "                    Description Dimension  \\\n",
       "Aspect                                      \n",
       "Time        Model aspect \"time\"      Time   \n",
       "Element  Model aspect \"Element\"   Element   \n",
       "\n",
       "                                            Classification IndexLetter  \n",
       "Aspect                                                                  \n",
       "Time     <ODYM_Classes.Classification object at 0x00000...           t  \n",
       "Element  <ODYM_Classes.Classification object at 0x00000...           e  "
      ]
     },
     "execution_count": 3,
     "metadata": {},
     "output_type": "execute_result"
    }
   ],
   "source": [
    "IndexTable = pd.DataFrame({'Aspect'        : ['Time','Element'], # 'Time' and 'Element' must be present!\n",
    "                           'Description'   : ['Model aspect \"time\"', 'Model aspect \"Element\"'],\n",
    "                           'Dimension'     : ['Time','Element'], # 'Time' and 'Element' are also dimensions\n",
    "                           'Classification': [ModelClassification[Aspect] for Aspect in ['Time','Element']],\n",
    "                           'IndexLetter'   : ['t','e']}) # Unique one letter (upper or lower case) indices to be used later for calculations.\n",
    "\n",
    "IndexTable.set_index('Aspect', inplace = True) # Default indexing of IndexTable, other indices are produced on the fly\n",
    "\n",
    "IndexTable"
   ]
  },
  {
   "cell_type": "markdown",
   "metadata": {},
   "source": [
    "We can now define our MFA system: "
   ]
  },
  {
   "cell_type": "code",
   "execution_count": 4,
   "metadata": {},
   "outputs": [],
   "source": [
    "Dyn_MFA_System = msc.MFAsystem(Name = 'RecyclingSystem', \n",
    "                      Geogr_Scope = 'TestRegion', \n",
    "                      Unit = 'kt', \n",
    "                      ProcessList = [], \n",
    "                      FlowDict = {}, \n",
    "                      StockDict = {},\n",
    "                      ParameterDict = {}, \n",
    "                      Time_Start = Model_Time_Start, \n",
    "                      Time_End = Model_Time_End, \n",
    "                      IndexTable = IndexTable, \n",
    "                      Elements = IndexTable.loc['Element'].Classification.Items) # Initialize MFA system"
   ]
  },
  {
   "cell_type": "markdown",
   "metadata": {},
   "source": [
    "This system has a name, a geographical scope, a system-wide unit, a time frame, an index table with all aspects defined, and a list of chemical elements considered.\n",
    "\n",
    "### 3) Inserting data into the MFA system\n",
    "\n",
    "It is lacking a list of processes, stocks, flows, and parameters, and these are now defined and inserted into the system:"
   ]
  },
  {
   "cell_type": "code",
   "execution_count": 5,
   "metadata": {},
   "outputs": [
    {
     "data": {
      "text/plain": [
       "[<ODYM_Classes.Process at 0x1da438fb520>,\n",
       " <ODYM_Classes.Process at 0x1da438fb580>,\n",
       " <ODYM_Classes.Process at 0x1da438fb640>,\n",
       " <ODYM_Classes.Process at 0x1da438fb5b0>,\n",
       " <ODYM_Classes.Process at 0x1da438fb550>,\n",
       " <ODYM_Classes.Process at 0x1da438fb5e0>]"
      ]
     },
     "execution_count": 5,
     "metadata": {},
     "output_type": "execute_result"
    }
   ],
   "source": [
    "# Start with empty process list, only process numbers (IDs) and names are needed.\n",
    "Dyn_MFA_System.ProcessList = [] \n",
    "Dyn_MFA_System.ProcessList.append(msc.Process(Name = 'Environment' , ID   = 0))\n",
    "Dyn_MFA_System.ProcessList.append(msc.Process(Name = 'Shredder'    , ID   = 1))\n",
    "Dyn_MFA_System.ProcessList.append(msc.Process(Name = 'Demolition'  , ID   = 2))\n",
    "Dyn_MFA_System.ProcessList.append(msc.Process(Name = 'Remelting'   , ID   = 3))\n",
    "Dyn_MFA_System.ProcessList.append(msc.Process(Name = 'Landfills'   , ID   = 4))\n",
    "Dyn_MFA_System.ProcessList.append(msc.Process(Name = 'Slag piles'  , ID   = 5))\n",
    "\n",
    "# Print list of processes:\n",
    "Dyn_MFA_System.ProcessList"
   ]
  },
  {
   "cell_type": "markdown",
   "metadata": {},
   "source": [
    "Now, we define the parameter values for the inflow and yield parameters:"
   ]
  },
  {
   "cell_type": "code",
   "execution_count": 6,
   "metadata": {},
   "outputs": [],
   "source": [
    "Values_Par_EoL_Machines  = np.arange(15.5,31,0.5) # linear growth of that flow at growth rate of 0.5 kt/yr\n",
    "Values_Par_EoL_Buildings = np.arange(120,365,8)   # linear growth of that flow at growth rate of 8 kt/yr\n",
    "\n",
    "Composition_Par_EoL_Machines  = np.array([0.8,0.15,0.05]) # 80% Fe, 15% Cu, 5% Mn in EoL machines\n",
    "Composition_Par_EoL_Buildings = np.array([0.95,0.045,0.005]) # 95% Fe, 4.5% Cu, 0.5% Mn in EoL buildings\n",
    "\n",
    "Yield_Par_Shredder   = np.array([0.92,0.1,0.92]) # Yield for EoL Machine into scrap: Fe: 92%, Cu: 10%, Mn: 92%.\n",
    "Yield_Par_Demolition = np.array([0.95,0.02,0.95]) # Yield for EoL Building into scrap: Fe: 95%, Cu: 2%, Mn: 95%.\n",
    "Yield_Par_Remelting  = np.array([0.96,1,0.5]) # Yield for EoL Machine into scrap: Fe: 96%, Cu: 100%, Mn: 50%.\n",
    "\n",
    "ParameterDict = {}\n",
    "\n",
    "# Define parameters for inflow of EoL machines and buildings with indices 'te' (years x element) and matching time series Values (array with size 31 x 3).\n",
    "# In a more advanced setup the parameters are defined in a data template and then read into the software.\n",
    "ParameterDict['F_0_1']  = msc.Parameter(Name = 'Inflow_Eol_Machines', ID = 1, P_Res = 1,\n",
    "                                        MetaData = None, Indices = 'te',\n",
    "                                        Values = np.einsum('t,e->te',Values_Par_EoL_Machines,Composition_Par_EoL_Machines),\n",
    "                                        Unit = 'kt/yr')\n",
    "ParameterDict['F_0_2']  = msc.Parameter(Name = 'Inflow_Eol_Buildings', ID = 2, P_Res = 2,\n",
    "                                        MetaData = None, Indices = 'te',\n",
    "                                        Values = np.einsum('t,e->te',Values_Par_EoL_Buildings,Composition_Par_EoL_Buildings), \n",
    "                                        Unit = 'kt/yr')\n",
    "\n",
    "# Define parameter yield (gamma) with index 'e' (element) and matching time series Values(array with size 3).\n",
    "# In a more advanced setup the parameters are defined in a data template and then read into the software.\n",
    "ParameterDict['Gamma_1'] = msc.Parameter(Name = 'Shredding yield',  ID = 3, P_Res = 1,\n",
    "                                         MetaData = None, Indices = 'e',\n",
    "                                         Values = Yield_Par_Shredder, Unit = '1')\n",
    "ParameterDict['Gamma_2'] = msc.Parameter(Name = 'Demolition yield', ID = 4, P_Res = 2,\n",
    "                                         MetaData = None, Indices = 'e', \n",
    "                                         Values = Yield_Par_Demolition, Unit = '1')\n",
    "ParameterDict['Gamma_3'] = msc.Parameter(Name = 'Remelting yield',  ID = 5, P_Res = 3,\n",
    "                                         MetaData = None, Indices = 'e', \n",
    "                                         Values = Yield_Par_Remelting, Unit = '1')\n",
    "\n",
    "# Assign parameter dictionary to MFA system:\n",
    "Dyn_MFA_System.ParameterDict = ParameterDict"
   ]
  },
  {
   "cell_type": "markdown",
   "metadata": {
    "collapsed": true
   },
   "source": [
    "The flows, stocks changes, and stocks are as follows:"
   ]
  },
  {
   "cell_type": "code",
   "execution_count": 7,
   "metadata": {},
   "outputs": [],
   "source": [
    "# Define the flows of the system, and initialise their values:\n",
    "Dyn_MFA_System.FlowDict['F_0_1'] = msc.Flow(Name = 'Input EoL Machines', P_Start = 0, P_End = 1,\n",
    "                                            Indices = 't,e', Values=None)\n",
    "Dyn_MFA_System.FlowDict['F_0_2'] = msc.Flow(Name = 'Input EoL Buildings', P_Start = 0, P_End = 2,\n",
    "                                            Indices = 't,e', Values=None)\n",
    "Dyn_MFA_System.FlowDict['F_1_3'] = msc.Flow(Name = 'Scrap type 1', P_Start = 1, P_End = 3,\n",
    "                                            Indices = 't,e', Values=None)\n",
    "Dyn_MFA_System.FlowDict['F_1_0'] = msc.Flow(Name = 'Shredder residue', P_Start = 1, P_End = 0,\n",
    "                                            Indices = 't,e', Values=None)\n",
    "Dyn_MFA_System.FlowDict['F_2_3'] = msc.Flow(Name = 'Scrap type 2', P_Start = 2, P_End = 3,\n",
    "                                            Indices = 't,e', Values=None)\n",
    "Dyn_MFA_System.FlowDict['F_2_4'] = msc.Flow(Name = 'Loss', P_Start = 2, P_End = 4,\n",
    "                                            Indices = 't,e', Values=None)\n",
    "Dyn_MFA_System.FlowDict['F_3_0'] = msc.Flow(Name = 'Secondary steel', P_Start = 3, P_End = 0,\n",
    "                                            Indices = 't,e', Values=None)\n",
    "Dyn_MFA_System.FlowDict['F_3_5'] = msc.Flow(Name = 'Slag', P_Start = 3, P_End = 5,\n",
    "                                            Indices = 't,e', Values=None)\n",
    "\n",
    "Dyn_MFA_System.StockDict['S_4']   = msc.Stock(Name = 'Landfill stock', P_Res = 4, Type = 0,\n",
    "                                              Indices = 't,e', Values=None)\n",
    "Dyn_MFA_System.StockDict['dS_4']  = msc.Stock(Name = 'Landfill stock change', P_Res = 4, Type = 1,\n",
    "                                              Indices = 't,e', Values=None)\n",
    "Dyn_MFA_System.StockDict['S_5']   = msc.Stock(Name = 'Slag pile stock', P_Res = 5, Type = 0,\n",
    "                                              Indices = 't,e', Values=None)\n",
    "Dyn_MFA_System.StockDict['dS_5']  = msc.Stock(Name = 'Slag pile stock change', P_Res = 5, Type = 1,\n",
    "                                              Indices = 't,e', Values=None)\n",
    "\n",
    "# Assign empty arrays to flows according to dimensions.\n",
    "Dyn_MFA_System.Initialize_FlowValues() "
   ]
  },
  {
   "cell_type": "code",
   "execution_count": 8,
   "metadata": {},
   "outputs": [
    {
     "data": {
      "text/plain": [
       "(True, True, True)"
      ]
     },
     "execution_count": 8,
     "metadata": {},
     "output_type": "execute_result"
    }
   ],
   "source": [
    "# Check whether flow value arrays match their indices, etc. See method documentation.\n",
    "Dyn_MFA_System.Consistency_Check() "
   ]
  },
  {
   "cell_type": "markdown",
   "metadata": {},
   "source": [
    "### 4) Programming a solution of the MFA system\n",
    "Now the system definition is complete, and we can program the model solution, making good use of np's einsum function:"
   ]
  },
  {
   "cell_type": "code",
   "execution_count": 9,
   "metadata": {},
   "outputs": [],
   "source": [
    "Dyn_MFA_System.FlowDict['F_0_1'].Values = Dyn_MFA_System.ParameterDict['F_0_1'].Values\n",
    "Dyn_MFA_System.FlowDict['F_0_2'].Values = Dyn_MFA_System.ParameterDict['F_0_2'].Values\n",
    "Dyn_MFA_System.FlowDict['F_1_3'].Values = np.einsum('te,e->te',\n",
    "                                                    Dyn_MFA_System.FlowDict['F_0_1'].Values,\n",
    "                                                    Dyn_MFA_System.ParameterDict['Gamma_1'].Values)\n",
    "Dyn_MFA_System.FlowDict['F_1_0'].Values = np.einsum('te,e->te',\n",
    "                                                    Dyn_MFA_System.FlowDict['F_0_1'].Values,1 - Dyn_MFA_System.ParameterDict['Gamma_1'].Values)\n",
    "Dyn_MFA_System.FlowDict['F_2_3'].Values = np.einsum('te,e->te',\n",
    "                                                    Dyn_MFA_System.FlowDict['F_0_2'].Values,\n",
    "                                                    Dyn_MFA_System.ParameterDict['Gamma_2'].Values)\n",
    "Dyn_MFA_System.FlowDict['F_2_4'].Values = np.einsum('te,e->te',\n",
    "                                                    Dyn_MFA_System.FlowDict['F_0_2'].Values,\n",
    "                                                    1 - Dyn_MFA_System.ParameterDict['Gamma_2'].Values)\n",
    "Dyn_MFA_System.FlowDict['F_3_0'].Values = np.einsum('te,e->te',\n",
    "                                                    (Dyn_MFA_System.FlowDict['F_1_3'].Values + Dyn_MFA_System.FlowDict['F_2_3'].Values),\n",
    "                                                    Dyn_MFA_System.ParameterDict['Gamma_3'].Values)\n",
    "Dyn_MFA_System.FlowDict['F_3_5'].Values = np.einsum('te,e->te',\n",
    "                                                    (Dyn_MFA_System.FlowDict['F_1_3'].Values + Dyn_MFA_System.FlowDict['F_2_3'].Values), \n",
    "                                                    1 - Dyn_MFA_System.ParameterDict['Gamma_3'].Values)\n",
    "\n",
    "Dyn_MFA_System.StockDict['dS_4'].Values = Dyn_MFA_System.FlowDict['F_2_4'].Values\n",
    "Dyn_MFA_System.StockDict['dS_5'].Values = Dyn_MFA_System.FlowDict['F_3_5'].Values\n",
    "\n",
    "Dyn_MFA_System.StockDict['S_4'].Values = Dyn_MFA_System.StockDict['dS_4'].Values.cumsum(axis =0)\n",
    "Dyn_MFA_System.StockDict['S_5'].Values = Dyn_MFA_System.StockDict['dS_5'].Values.cumsum(axis =0)"
   ]
  },
  {
   "cell_type": "markdown",
   "metadata": {},
   "source": [
    "### 5) Mass-balance-check\n",
    "One major advantage of the ODYM system structure is that mass balance checks can be performed automatically using unit-tested routines without further programming need:"
   ]
  },
  {
   "cell_type": "code",
   "execution_count": 10,
   "metadata": {},
   "outputs": [
    {
     "name": "stdout",
     "output_type": "stream",
     "text": [
      "(31, 6, 3)\n",
      "[6.63247235e-13 3.30430128e-14 3.02889658e-13 2.98427949e-13\n",
      " 0.00000000e+00 0.00000000e+00]\n"
     ]
    }
   ],
   "source": [
    "Bal = Dyn_MFA_System.MassBalance()\n",
    "# dimensions of balance are: time step x process x chemical element\n",
    "print(Bal.shape)\n",
    "# reports the sum of all absolute balancing errors by process.\n",
    "print(np.abs(Bal).sum(axis = 0).sum(axis = 1)) "
   ]
  },
  {
   "cell_type": "markdown",
   "metadata": {},
   "source": [
    "The ODYM mass balance array reports the balance for each chemical element, each year, and each process, including the system balance (process 0).\n",
    "\n",
    "It shows that all processes are balanced with high precision. "
   ]
  },
  {
   "cell_type": "markdown",
   "metadata": {},
   "source": [
    "The entire system is mass-balanced.\n",
    "\n",
    "### 6) Research questions\n",
    "We now address the research questions. First, we plot the amount of copper in the secondary steel, both in absolute terms and in %:"
   ]
  },
  {
   "cell_type": "code",
   "execution_count": 11,
   "metadata": {},
   "outputs": [
    {
     "data": {
      "text/plain": [
       "<matplotlib.legend.Legend at 0x1da4396e7c0>"
      ]
     },
     "execution_count": 11,
     "metadata": {},
     "output_type": "execute_result"
    },
    {
     "data": {
      "image/png": "[encoded data removed]",
      "text/plain": [
       "<Figure size 432x288 with 1 Axes>"
      ]
     },
     "metadata": {
      "needs_background": "light"
     },
     "output_type": "display_data"
    }
   ],
   "source": [
    "plt.set_loglevel(\"info\") \n",
    "fig, ax = plt.subplots()\n",
    "ax.plot(Dyn_MFA_System.IndexTable['Classification']['Time'].Items, \n",
    "        Dyn_MFA_System.FlowDict['F_3_0'].Values[:,1])\n",
    "ax.set_ylabel('Copper in flow F_3_0 in kt/yr', fontsize =16)\n",
    "ax.legend(['Cu'], loc='upper left')"
   ]
  },
  {
   "cell_type": "code",
   "execution_count": 12,
   "metadata": {},
   "outputs": [
    {
     "data": {
      "text/plain": [
       "<matplotlib.legend.Legend at 0x1da440d5b50>"
      ]
     },
     "execution_count": 12,
     "metadata": {},
     "output_type": "execute_result"
    },
    {
     "data": {
      "image/png": "[encoded data removed]",
      "text/plain": [
       "<Figure size 432x288 with 1 Axes>"
      ]
     },
     "metadata": {
      "needs_background": "light"
     },
     "output_type": "display_data"
    }
   ],
   "source": [
    "plt.set_loglevel(\"info\") \n",
    "Concentration_F_3_0 = np.einsum('te,t->te',\n",
    "                                Dyn_MFA_System.FlowDict['F_3_0'].Values, \n",
    "                                1 / Dyn_MFA_System.FlowDict['F_3_0'].Values.sum(axis=1))\n",
    "fig, ax = plt.subplots()\n",
    "ax.plot(Dyn_MFA_System.IndexTable['Classification']['Time'].Items, \n",
    "        100* Concentration_F_3_0[:,1::])\n",
    "ax.set_ylabel('[Cu] and [Mn] in flow F_3_0 in %', fontsize =16)\n",
    "ax.legend(['Cu','Mn'])"
   ]
  },
  {
   "cell_type": "markdown",
   "metadata": {},
   "source": [
    "The answer to the first question is: The copper flow in the secondary steel increases linearly from 0.34 kt/yr in 1980 to 0.78 kt/yr in 2010. The concentration of copper declines in a hyperbolic curve from 0.294% in 1980 to 0.233% in 2010.\n",
    "\n",
    "That concentration is below 0.4% at all times, the latter being the treshold for construction grade steel, but above 0.04%, which is the threshold for automotive steel."
   ]
  },
  {
   "cell_type": "code",
   "execution_count": 13,
   "metadata": {},
   "outputs": [
    {
     "data": {
      "text/plain": [
       "<matplotlib.legend.Legend at 0x1da44129e50>"
      ]
     },
     "execution_count": 13,
     "metadata": {},
     "output_type": "execute_result"
    },
    {
     "data": {
      "image/png": "[encoded data removed]",
      "text/plain": [
       "<Figure size 432x288 with 1 Axes>"
      ]
     },
     "metadata": {
      "needs_background": "light"
     },
     "output_type": "display_data"
    }
   ],
   "source": [
    "plt.set_loglevel(\"info\") \n",
    "fig, ax = plt.subplots()\n",
    "ax.plot(Dyn_MFA_System.IndexTable['Classification']['Time'].Items,\n",
    "        Dyn_MFA_System.FlowDict['F_3_5'].Values[:,2], color = 'g')\n",
    "ax.set_ylabel('Mn in flow F_3_5 in kt/yr', fontsize =16)\n",
    "ax.legend(['Mn'], loc='upper left')"
   ]
  },
  {
   "cell_type": "markdown",
   "metadata": {},
   "source": [
    "The answer to the second question is: The manganese flow in the slag from steelmaking increases linearly from 0.64 kt/yr in 1980 to 1.56 kt/yr in 2010. That is about 47% of the total incoming Mn. \n",
    "\n",
    "To answer the third question we change the parameter values and recalculate the entire system.\n",
    "\n",
    "Case a) "
   ]
  },
  {
   "cell_type": "code",
   "execution_count": 14,
   "metadata": {},
   "outputs": [],
   "source": [
    "Yield_Par_Shredder_Va = np.array([0.92,0.075,0.92]) # Yield for EoL Machine into scrap: Fe: 92%, Cu: 7.5% (25% reduction from 10%), Mn: 92%.\n",
    "ParameterDict['Gamma_1'].Values = Yield_Par_Shredder_Va\n",
    "\n",
    "Dyn_MFA_System.FlowDict['F_0_1'].Values = Dyn_MFA_System.ParameterDict['F_0_1'].Values\n",
    "Dyn_MFA_System.FlowDict['F_0_2'].Values = Dyn_MFA_System.ParameterDict['F_0_2'].Values\n",
    "Dyn_MFA_System.FlowDict['F_1_3'].Values = np.einsum('te,e->te',\n",
    "                                                    Dyn_MFA_System.FlowDict['F_0_1'].Values,\n",
    "                                                    Dyn_MFA_System.ParameterDict['Gamma_1'].Values)\n",
    "Dyn_MFA_System.FlowDict['F_1_0'].Values = np.einsum('te,e->te',\n",
    "                                                    Dyn_MFA_System.FlowDict['F_0_1'].Values,1 - Dyn_MFA_System.ParameterDict['Gamma_1'].Values)\n",
    "Dyn_MFA_System.FlowDict['F_2_3'].Values = np.einsum('te,e->te',\n",
    "                                                    Dyn_MFA_System.FlowDict['F_0_2'].Values,\n",
    "                                                    Dyn_MFA_System.ParameterDict['Gamma_2'].Values)\n",
    "Dyn_MFA_System.FlowDict['F_2_4'].Values = np.einsum('te,e->te',\n",
    "                                                    Dyn_MFA_System.FlowDict['F_0_2'].Values,1 - Dyn_MFA_System.ParameterDict['Gamma_2'].Values)\n",
    "Dyn_MFA_System.FlowDict['F_3_0'].Values = np.einsum('te,e->te',\n",
    "                                                    (Dyn_MFA_System.FlowDict['F_1_3'].Values + Dyn_MFA_System.FlowDict['F_2_3'].Values),\n",
    "                                                    Dyn_MFA_System.ParameterDict['Gamma_3'].Values)\n",
    "Dyn_MFA_System.FlowDict['F_3_5'].Values = np.einsum('te,e->te',\n",
    "                                                    (Dyn_MFA_System.FlowDict['F_1_3'].Values + Dyn_MFA_System.FlowDict['F_2_3'].Values), \n",
    "                                                    1 - Dyn_MFA_System.ParameterDict['Gamma_3'].Values)\n"
   ]
  },
  {
   "cell_type": "code",
   "execution_count": 15,
   "metadata": {},
   "outputs": [
    {
     "data": {
      "text/plain": [
       "<matplotlib.legend.Legend at 0x1da441b3550>"
      ]
     },
     "execution_count": 15,
     "metadata": {},
     "output_type": "execute_result"
    },
    {
     "data": {
      "image/png": "[encoded data removed]",
      "text/plain": [
       "<Figure size 432x288 with 1 Axes>"
      ]
     },
     "metadata": {
      "needs_background": "light"
     },
     "output_type": "display_data"
    }
   ],
   "source": [
    "plt.set_loglevel(\"info\") \n",
    "Concentration_F_3_0_Va = np.einsum('te,t->te',\n",
    "                                   Dyn_MFA_System.FlowDict['F_3_0'].Values, \n",
    "                                   1 / Dyn_MFA_System.FlowDict['F_3_0'].Values.sum(axis=1))\n",
    "fig, ax = plt.subplots()\n",
    "ax.plot(Dyn_MFA_System.IndexTable['Classification']['Time'].Items, \n",
    "        100* Concentration_F_3_0_Va[:,1::])\n",
    "ax.set_ylabel('[Cu] and [Mn] in flow F_3_0 in %', fontsize =16)\n",
    "ax.legend(['Cu','Mn'])"
   ]
  },
  {
   "cell_type": "markdown",
   "metadata": {},
   "source": [
    "Case b)"
   ]
  },
  {
   "cell_type": "code",
   "execution_count": 16,
   "metadata": {},
   "outputs": [],
   "source": [
    "ParameterDict['F_0_2'].Values = ParameterDict['F_0_2'].Values * 1.25 # Process 25% more EoL buildings\n",
    "ParameterDict['Gamma_1'].Values = Yield_Par_Shredder # Reset to old value\n",
    "\n",
    "\n",
    "Dyn_MFA_System.FlowDict['F_0_1'].Values = Dyn_MFA_System.ParameterDict['F_0_1'].Values\n",
    "Dyn_MFA_System.FlowDict['F_0_2'].Values = Dyn_MFA_System.ParameterDict['F_0_2'].Values\n",
    "Dyn_MFA_System.FlowDict['F_1_3'].Values = np.einsum('te,e->te',\n",
    "                                                    Dyn_MFA_System.FlowDict['F_0_1'].Values,\n",
    "                                                    Dyn_MFA_System.ParameterDict['Gamma_1'].Values)\n",
    "Dyn_MFA_System.FlowDict['F_1_0'].Values = np.einsum('te,e->te',\n",
    "                                                    Dyn_MFA_System.FlowDict['F_0_1'].Values,1 - Dyn_MFA_System.ParameterDict['Gamma_1'].Values)\n",
    "Dyn_MFA_System.FlowDict['F_2_3'].Values = np.einsum('te,e->te',\n",
    "                                                    Dyn_MFA_System.FlowDict['F_0_2'].Values,Dyn_MFA_System.ParameterDict['Gamma_2'].Values)\n",
    "Dyn_MFA_System.FlowDict['F_2_4'].Values = np.einsum('te,e->te',\n",
    "                                                    Dyn_MFA_System.FlowDict['F_0_2'].Values,1 - Dyn_MFA_System.ParameterDict['Gamma_2'].Values)\n",
    "Dyn_MFA_System.FlowDict['F_3_0'].Values = np.einsum('te,e->te',\n",
    "                                                    (Dyn_MFA_System.FlowDict['F_1_3'].Values + Dyn_MFA_System.FlowDict['F_2_3'].Values),\n",
    "                                                    Dyn_MFA_System.ParameterDict['Gamma_3'].Values)\n",
    "Dyn_MFA_System.FlowDict['F_3_5'].Values = np.einsum('te,e->te',\n",
    "                                                    (Dyn_MFA_System.FlowDict['F_1_3'].Values + Dyn_MFA_System.FlowDict['F_2_3'].Values), \n",
    "                                                    1 - Dyn_MFA_System.ParameterDict['Gamma_3'].Values)\n"
   ]
  },
  {
   "cell_type": "code",
   "execution_count": 17,
   "metadata": {},
   "outputs": [
    {
     "data": {
      "text/plain": [
       "<matplotlib.legend.Legend at 0x1da44224580>"
      ]
     },
     "execution_count": 17,
     "metadata": {},
     "output_type": "execute_result"
    },
    {
     "data": {
      "image/png": "[encoded data removed]",
      "text/plain": [
       "<Figure size 432x288 with 1 Axes>"
      ]
     },
     "metadata": {
      "needs_background": "light"
     },
     "output_type": "display_data"
    }
   ],
   "source": [
    "plt.set_loglevel(\"info\") \n",
    "Concentration_F_3_0_Vb = np.einsum('te,t->te',\n",
    "                                   Dyn_MFA_System.FlowDict['F_3_0'].Values, \n",
    "                                   1 / Dyn_MFA_System.FlowDict['F_3_0'].Values.sum(axis=1))\n",
    "fig, ax = plt.subplots()\n",
    "ax.plot(Dyn_MFA_System.IndexTable['Classification']['Time'].Items, \n",
    "        100* Concentration_F_3_0_Vb[:,1::])\n",
    "ax.set_ylabel('[Cu] and [Mn] in flow F_3_0 in %', fontsize =16)\n",
    "ax.legend(['Cu','Mn'])"
   ]
  },
  {
   "cell_type": "code",
   "execution_count": 18,
   "metadata": {},
   "outputs": [
    {
     "name": "stdout",
     "output_type": "stream",
     "text": [
      "[0.00293783 0.00553486]\n",
      "[0.00243755 0.00553764]\n",
      "[0.00258818 0.00501965]\n"
     ]
    }
   ],
   "source": [
    "print(Concentration_F_3_0[0,1::])\n",
    "print(Concentration_F_3_0_Va[0,1::])\n",
    "print(Concentration_F_3_0_Vb[0,1::])\n",
    "# First value is [Cu], second value is [Mn]."
   ]
  },
  {
   "cell_type": "markdown",
   "metadata": {},
   "source": [
    "We can see that both measures reduce the copper concentration in the secondary steel. For the first year, [Cu] is reduced from 0.294% to 0.244% if the Cu-yield into steel scrap of the shredder is reduced and to 0.259% if the EoL building flow treated is increased by 25%. The yield measure thus has a slightly higher impact on the copper contentration than the increase of a copper-poor scrap flow for dilution. In both cases the impact is not high enough to bring [Cu] to values below 0.04%, which is necessary for automotive applications."
   ]
  },
  {
   "cell_type": "markdown",
   "metadata": {},
   "source": [
    "### 7) Save data and results\n",
    "Save entire system: "
   ]
  },
  {
   "cell_type": "code",
   "execution_count": 19,
   "metadata": {},
   "outputs": [],
   "source": [
    "pickle.dump( {'MFATestSystem': Dyn_MFA_System}, open( \"Tutorial2_MFATestSystem.p\", \"wb\" ) )"
   ]
  }
 ],
 "metadata": {
  "kernelspec": {
   "display_name": "Python 3",
   "language": "python",
   "name": "python3"
  },
  "language_info": {
   "codemirror_mode": {
    "name": "ipython",
    "version": 3
   },
   "file_extension": ".py",
   "mimetype": "text/x-python",
   "name": "python",
   "nbconvert_exporter": "python",
   "pygments_lexer": "ipython3",
   "version": "3.8.8"
  }
 },
 "nbformat": 4,
 "nbformat_minor": 2
}
